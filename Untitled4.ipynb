{
  "nbformat": 4,
  "nbformat_minor": 0,
  "metadata": {
    "colab": {
      "provenance": [],
      "machine_shape": "hm",
      "gpuType": "V28",
      "authorship_tag": "ABX9TyN4exqo7iyzhN+k+KKST19O",
      "include_colab_link": true
    },
    "kernelspec": {
      "name": "python3",
      "display_name": "Python 3"
    },
    "language_info": {
      "name": "python"
    },
    "accelerator": "TPU"
  },
  "cells": [
    {
      "cell_type": "markdown",
      "metadata": {
        "id": "view-in-github",
        "colab_type": "text"
      },
      "source": [
        "<a href=\"https://colab.research.google.com/github/imid12/imid12/blob/main/Untitled4.ipynb\" target=\"_parent\"><img src=\"https://colab.research.google.com/assets/colab-badge.svg\" alt=\"Open In Colab\"/></a>"
      ]
    },
    {
      "cell_type": "code",
      "execution_count": 4,
      "metadata": {
        "colab": {
          "base_uri": "https://localhost:8080/"
        },
        "id": "H6jl60ZMJGbF",
        "outputId": "52422d52-5755-4e38-e8ce-6a3de1f18bb9"
      },
      "outputs": [
        {
          "output_type": "stream",
          "name": "stdout",
          "text": [
            "Enter grade one: 55\n",
            "Enter grade two: 66\n",
            "Enter grade three: 44\n",
            "Enter grade four: 73\n",
            "Your average is 59.5\n",
            "You have a(n) F\n"
          ]
        }
      ],
      "source": [
        "gradeOne = float( input(\"Enter grade one: \"))\n",
        "gradeTwo = float( input(\"Enter grade two: \"))\n",
        "gradeThree = float( input(\"Enter grade three: \"))\n",
        "gradeFour = float( input(\"Enter grade four: \"))\n",
        "\n",
        "average = (gradeOne + gradeTwo + gradeThree + gradeFour) / 4\n",
        "\n",
        "if average >= 90:\n",
        "    letterGrade = \"A\"\n",
        "elif average < 90 and average >= 80:\n",
        "    letterGrade = \"B\"\n",
        "elif average < 80 and average >= 75:\n",
        "    letterGrade = \"C\"\n",
        "elif average < 75 and average >= 70:\n",
        "    letterGrade = \"D\"\n",
        "else:\n",
        "    letterGrade  = \"F\"\n",
        "\n",
        "print(\"Your average is\", average)\n",
        "print(\"You have a(n)\", letterGrade)\n"
      ]
    }
  ]
}